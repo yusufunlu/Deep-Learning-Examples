{
  "cells": [
    {
      "cell_type": "markdown",
      "metadata": {
        "id": "view-in-github",
        "colab_type": "text"
      },
      "source": [
        "<a href=\"https://colab.research.google.com/github/yusufunlu/DeepLearningExamples/blob/main/Testing_Evaluation_eff.ipynb\" target=\"_parent\"><img src=\"https://colab.research.google.com/assets/colab-badge.svg\" alt=\"Open In Colab\"/></a>"
      ]
    },
    {
      "cell_type": "markdown",
      "id": "fallen-plasma",
      "metadata": {
        "id": "fallen-plasma"
      },
      "source": [
        "## Important Imports"
      ]
    },
    {
      "cell_type": "code",
      "execution_count": null,
      "id": "quick-property",
      "metadata": {
        "id": "quick-property"
      },
      "outputs": [],
      "source": [
        "import tensorflow as tf\n",
        "import numpy as np \n",
        "import pandas as pd\n",
        "import matplotlib.pyplot as plt\n",
        "import cv2\n",
        "import os\n",
        "from sklearn.metrics import confusion_matrix\n",
        "from keras.models import load_model"
      ]
    },
    {
      "cell_type": "markdown",
      "source": [
        "Mount colab to parent of Google Drive, so we can reach to project's folder and Google Drive which refers to all the folders I have"
      ],
      "metadata": {
        "id": "eVCWAFva3JnE"
      },
      "id": "eVCWAFva3JnE"
    },
    {
      "cell_type": "code",
      "source": [
        "from google.colab import drive\n",
        "drive.mount('/content/drive')"
      ],
      "metadata": {
        "colab": {
          "base_uri": "https://localhost:8080/"
        },
        "id": "nW7s0gwPlBqD",
        "outputId": "b76eefea-82b3-49ed-e104-2a8c1e0e824d"
      },
      "id": "nW7s0gwPlBqD",
      "execution_count": null,
      "outputs": [
        {
          "output_type": "stream",
          "name": "stdout",
          "text": [
            "Mounted at /content/drive\n"
          ]
        }
      ]
    },
    {
      "cell_type": "markdown",
      "source": [
        "This should json file to not expose my credentials"
      ],
      "metadata": {
        "id": "1LT1HRtK3e2o"
      },
      "id": "1LT1HRtK3e2o"
    },
    {
      "cell_type": "code",
      "source": [
        "os.environ['KAGGLE_USERNAME'] = \"yusufunlu\" # username from the json file\n",
        "os.environ['KAGGLE_KEY'] = \"6d464cc201a36e8743ed8fbaa39b235f\" # key from the json file"
      ],
      "metadata": {
        "id": "s9_9MIcXkkeP"
      },
      "id": "s9_9MIcXkkeP",
      "execution_count": null,
      "outputs": []
    },
    {
      "cell_type": "markdown",
      "source": [
        "Data is stored on Kaggle so downloading from kaggle to colab is better than downloading the user's machine and upload it because user's internet is probably slower than colab. On the other hand it is better for automation and escaping from errors. Lastly this method create reproducible codes"
      ],
      "metadata": {
        "id": "RocQCkb93kPR"
      },
      "id": "RocQCkb93kPR"
    },
    {
      "cell_type": "code",
      "source": [
        "!kaggle datasets download -d hgunraj/covidxct"
      ],
      "metadata": {
        "colab": {
          "base_uri": "https://localhost:8080/"
        },
        "id": "J-F9lqC-lEWa",
        "outputId": "1c0e0be3-bf7d-42d8-dfe5-fe3e8c20ec22"
      },
      "id": "J-F9lqC-lEWa",
      "execution_count": null,
      "outputs": [
        {
          "output_type": "stream",
          "name": "stdout",
          "text": [
            "Downloading covidxct.zip to /content\n",
            "100% 28.7G/28.7G [03:45<00:00, 193MB/s]\n",
            "100% 28.7G/28.7G [03:45<00:00, 136MB/s]\n"
          ]
        }
      ]
    },
    {
      "cell_type": "markdown",
      "source": [
        "Data is stored as zip file on kaggle. On the other hand \"!\" means that it is linux command not a python function"
      ],
      "metadata": {
        "id": "PEiSHfKq4FzJ"
      },
      "id": "PEiSHfKq4FzJ"
    },
    {
      "cell_type": "code",
      "source": [
        "!unzip covidxct.zip"
      ],
      "metadata": {
        "id": "qcsCn1Dxl6Dk"
      },
      "id": "qcsCn1Dxl6Dk",
      "execution_count": null,
      "outputs": []
    },
    {
      "cell_type": "markdown",
      "source": [
        "We shouldn't be using magic numbers and magic strings in code for managing those variables and external configurations. File is downloaded into project's root folder in our case which is an upper level of 'MyDrive' folder"
      ],
      "metadata": {
        "id": "FZfy94vD4YVV"
      },
      "id": "FZfy94vD4YVV"
    },
    {
      "cell_type": "code",
      "source": [
        "dataset_path= '.'"
      ],
      "metadata": {
        "id": "XRx99y2dlLra"
      },
      "id": "XRx99y2dlLra",
      "execution_count": null,
      "outputs": []
    },
    {
      "cell_type": "markdown",
      "source": [
        "Below functions used to be in extenal python file then I moved them into this notebook."
      ],
      "metadata": {
        "id": "QHmnQ7xM43T9"
      },
      "id": "QHmnQ7xM43T9"
    },
    {
      "cell_type": "code",
      "execution_count": null,
      "id": "golden-thread",
      "metadata": {
        "id": "golden-thread"
      },
      "outputs": [],
      "source": [
        "import cv2\n",
        "import numpy as np\n",
        "import pandas as pd\n",
        "import matplotlib.pyplot as plt\n",
        "import itertools\n",
        "SEED =12\n",
        "\n",
        "def load_labels(label_file):\n",
        "    \"\"\"Loads image filenames, classes, and bounding boxes\"\"\"\n",
        "    fnames, classes, bboxes = [], [], []\n",
        "    with open(label_file, 'r') as f:\n",
        "        for line in f.readlines():\n",
        "            #typical line is like \"NCP_341_1834_0022.png 2 0 130 512 429\"\n",
        "            #clean \"\\n\" character from line(it doesn't change original line of file)\n",
        "            #split the line into chunks, default delimiter is \" \" space character\n",
        "            fname, cls, xmin, ymin, xmax, ymax = line.strip('\\n').split()\n",
        "            #As an example below\n",
        "            #fname=NCP_341_1834_0022.png,cls=2,xmin=0,ymin=130,xmax=512,ymax=429\n",
        "            fnames.append(fname)\n",
        "            classes.append(int(cls))\n",
        "            bboxes.append((int(xmin), int(ymin), int(xmax), int(ymax)))\n",
        "    #Below line was different as including windows dataset path in original code\n",
        "    #by dataset_path it is externalized\n",
        "    #fnames include path+filename not only file names\n",
        "    fnames = [dataset_path + \"/2A_images/\" + fname for fname in fnames]\n",
        "    #create and numy array\n",
        "    fnames = np.array(fnames)\n",
        "    classes = np.array(classes)\n",
        "    #return 3 values as tuple\n",
        "    return fnames, classes, bboxes\n",
        "def index_generator(fnames , SET):\n",
        "    \"\"\"Generated random index of a particular class\"\"\"\n",
        "    np.random.seed(SEED)\n",
        "    index = np.random.randint(1,len(fnames),size = SET)\n",
        "    return index \n",
        "def numberofclasses(classes, index):\n",
        "    class0 = len((np.where(classes[index]==0))[0])\n",
        "    class1 = len((np.where(classes[index]==1))[0])\n",
        "    class2 = len((np.where(classes[index]==2))[0])\n",
        "    return class0  , class1, class2\n",
        "def dataframe_generator(test_index ,classes_test ):\n",
        "    \"\"\"Returns 1 dataframes of datasets distribution\"\"\"\n",
        "    index = [\"Normal\" , \"Pneumonia\" , \"COVID -19\"]\n",
        "    test_DF = numberofclasses(classes_test, test_index)\n",
        "    #\"Normal\",\"Pneumonia\",\"COVID -19\" used as index\n",
        "    df = pd.DataFrame({'test': test_DF } , index = index)\n",
        "    return df\n",
        "def data_constructor(filepath, classes , dim_size ,index  ,bboxes , interpolation = cv2.INTER_AREA , intensify =False):\n",
        "    \"\"\"Constructs and splits X and Y for training , validtion and test\"\"\"\n",
        "    np.random.seed(SEED)\n",
        "    y = np.array(classes[index])\n",
        "    x = []\n",
        "    for i in index:\n",
        "        img  = cv2.imread(filepath[i])\n",
        "        img = cv2.cvtColor(img, cv2.COLOR_BGR2RGB)\n",
        "        x1,y1,x2,y2 = bboxes[i]\n",
        "        img = img[y1:y2,x1:x2]\n",
        "        img = cv2.resize(img, dim_size , interpolation = interpolation)\n",
        "        x.append(img)\n",
        "    \n",
        "    x = np.array(x)\n",
        "    if intensify == True:\n",
        "        x= x/255\n",
        "    return x , y \n",
        "def phase1_labels_updater(dense_y):\n",
        "    \"\"\"\n",
        "    Updates labels for Phase-1 testing\n",
        "    \"\"\"\n",
        "    for i in range(len(dense_y)):\n",
        "        if dense_y[i] == 2:\n",
        "            dense_y[i] =1 \n",
        "        elif dense_y[i]==1:\n",
        "            dense_y[i] = 0 \n",
        "    return dense_y    \n",
        "def index_extractor(y_preds, y_test,  test_index ,classes_test):\n",
        "    \"\"\"\n",
        "    Extracts indexs of all the Original classes and Predicted classes by Phase-1 Model \n",
        "    \"\"\"\n",
        "    yclass_0 = np.where(y_preds==0)[0]\n",
        "    yclass_1 = np.where(y_preds==1)[0]\n",
        "    class_0 = np.where(y_test==0)[0]\n",
        "    class_1 = np.where(y_test==1)[0]\n",
        "    yclass0 = test_index[yclass_0]\n",
        "    yclass1 = test_index[yclass_1]\n",
        "    class0 = test_index[class_0]\n",
        "    class1 =test_index[class_1]\n",
        "    y00=np.where(classes_test[yclass0]==0)[0]\n",
        "    y01=np.where(classes_test[yclass0]==1)[0]\n",
        "    y02=np.where(classes_test[yclass0]==2)[0]\n",
        "    y20=np.where(classes_test[yclass1]==0)[0]\n",
        "    y21=np.where(classes_test[yclass1]==1)[0]\n",
        "    index_00 = yclass0[y00]\n",
        "    index_01 = yclass0[y01]\n",
        "    index_02 = yclass0[y02]\n",
        "    index_20 = yclass1[y20]\n",
        "    index_21 = yclass1[y21]\n",
        "    index_0 = np.concatenate((index_00,index_01))\n",
        "    return index_0,index_02,index_20,index_21\n",
        "def plot_confusion_matrix(cm, classes,normalize=False,title='Confusion matrix',cmap=plt.cm.Blues):\n",
        "    \"\"\"\n",
        "      This function prints and plots the confusion matrix.\n",
        "    \"\"\"\n",
        "    print(cm)\n",
        "    plt.imshow(cm, interpolation='nearest', cmap=cmap)\n",
        "    plt.title(title)\n",
        "    plt.colorbar()\n",
        "    tick_marks = np.arange(len(classes))\n",
        "    plt.xticks(tick_marks, classes, rotation=45)\n",
        "    plt.yticks(tick_marks, classes)\n",
        "    fmt = '.2f' if normalize else 'd'\n",
        "    thresh = cm.max() / 2.\n",
        "    for i, j in itertools.product(range(cm.shape[0]), range(cm.shape[1])):\n",
        "        plt.text(j, i, format(cm[i, j], fmt), horizontalalignment=\"center\",color=\"white\" if cm[i, j] > thresh else \"black\")\n",
        "    plt.tight_layout()\n",
        "    plt.ylabel('True label')\n",
        "    plt.xlabel('Predicted label')\n",
        "    plt.show()"
      ]
    },
    {
      "cell_type": "markdown",
      "id": "e7da1c96",
      "metadata": {
        "id": "e7da1c96"
      },
      "source": [
        "## Setting up parameters and directories"
      ]
    },
    {
      "cell_type": "code",
      "execution_count": null,
      "id": "upset-aruba",
      "metadata": {
        "id": "upset-aruba"
      },
      "outputs": [],
      "source": [
        "IMG_HEIGHT = 128\n",
        "IMG_WIDTH = 128\n",
        "DIM = (128,128)\n",
        "TEST_SET= 25658\n",
        "SEED=12 \n",
        "label_file_test = dataset_path+\"/test_COVIDx_CT-2A.txt\""
      ]
    },
    {
      "cell_type": "code",
      "source": [
        "label_file_test"
      ],
      "metadata": {
        "colab": {
          "base_uri": "https://localhost:8080/",
          "height": 35
        },
        "id": "QJvnvtvyQuNu",
        "outputId": "c3172612-a5d1-4d85-8aae-4a6e9277da19"
      },
      "id": "QJvnvtvyQuNu",
      "execution_count": null,
      "outputs": [
        {
          "output_type": "execute_result",
          "data": {
            "text/plain": [
              "'./test_COVIDx_CT-2A.txt'"
            ],
            "application/vnd.google.colaboratory.intrinsic+json": {
              "type": "string"
            }
          },
          "metadata": {},
          "execution_count": 100
        }
      ]
    },
    {
      "cell_type": "code",
      "source": [
        "!ls -la /content/drive/MyDrive/Colab\\ Notebooks"
      ],
      "metadata": {
        "colab": {
          "base_uri": "https://localhost:8080/"
        },
        "id": "g1Dvrs2Si7Lc",
        "outputId": "95c6f402-944a-464d-e0c1-d91f344e1c1b"
      },
      "id": "g1Dvrs2Si7Lc",
      "execution_count": null,
      "outputs": [
        {
          "output_type": "stream",
          "name": "stdout",
          "text": [
            "total 532\n",
            "-rw------- 1 root root  77622 Apr 29 21:59 'Copy of Phase-1.ipynb'\n",
            "-rw------- 1 root root 376892 Apr 29 22:32 'Copy of Phase-2.ipynb'\n",
            "-rw------- 1 root root  88766 Apr 29 22:31 'Copy of Testing_Evaluation.ipynb'\n",
            "-rw------- 1 root root    306 Apr 29 22:29  Untitled\n"
          ]
        }
      ]
    },
    {
      "cell_type": "markdown",
      "id": "labeled-location",
      "metadata": {
        "id": "labeled-location"
      },
      "source": [
        "## Loading test data"
      ]
    },
    {
      "cell_type": "code",
      "execution_count": null,
      "id": "leading-neutral",
      "metadata": {
        "id": "leading-neutral",
        "outputId": "4e90bdc4-6b4f-49a4-81b1-87efcf9ba5fc",
        "colab": {
          "base_uri": "https://localhost:8080/",
          "height": 525
        }
      },
      "outputs": [
        {
          "output_type": "stream",
          "name": "stdout",
          "text": [
            "FINAL IMAGE COUNT:\n",
            "Total Test Images =  25658\n",
            "test    12117\n",
            "Name: Normal, dtype: int64\n"
          ]
        },
        {
          "output_type": "execute_result",
          "data": {
            "text/plain": [
              "            test\n",
              "Normal     12117\n",
              "Pneumonia   7571\n",
              "COIVD -19   5970"
            ],
            "text/html": [
              "\n",
              "  <div id=\"df-77c97702-cadf-4c5b-9a83-1abf1d815647\">\n",
              "    <div class=\"colab-df-container\">\n",
              "      <div>\n",
              "<style scoped>\n",
              "    .dataframe tbody tr th:only-of-type {\n",
              "        vertical-align: middle;\n",
              "    }\n",
              "\n",
              "    .dataframe tbody tr th {\n",
              "        vertical-align: top;\n",
              "    }\n",
              "\n",
              "    .dataframe thead th {\n",
              "        text-align: right;\n",
              "    }\n",
              "</style>\n",
              "<table border=\"1\" class=\"dataframe\">\n",
              "  <thead>\n",
              "    <tr style=\"text-align: right;\">\n",
              "      <th></th>\n",
              "      <th>test</th>\n",
              "    </tr>\n",
              "  </thead>\n",
              "  <tbody>\n",
              "    <tr>\n",
              "      <th>Normal</th>\n",
              "      <td>12117</td>\n",
              "    </tr>\n",
              "    <tr>\n",
              "      <th>Pneumonia</th>\n",
              "      <td>7571</td>\n",
              "    </tr>\n",
              "    <tr>\n",
              "      <th>COIVD -19</th>\n",
              "      <td>5970</td>\n",
              "    </tr>\n",
              "  </tbody>\n",
              "</table>\n",
              "</div>\n",
              "      <button class=\"colab-df-convert\" onclick=\"convertToInteractive('df-77c97702-cadf-4c5b-9a83-1abf1d815647')\"\n",
              "              title=\"Convert this dataframe to an interactive table.\"\n",
              "              style=\"display:none;\">\n",
              "        \n",
              "  <svg xmlns=\"http://www.w3.org/2000/svg\" height=\"24px\"viewBox=\"0 0 24 24\"\n",
              "       width=\"24px\">\n",
              "    <path d=\"M0 0h24v24H0V0z\" fill=\"none\"/>\n",
              "    <path d=\"M18.56 5.44l.94 2.06.94-2.06 2.06-.94-2.06-.94-.94-2.06-.94 2.06-2.06.94zm-11 1L8.5 8.5l.94-2.06 2.06-.94-2.06-.94L8.5 2.5l-.94 2.06-2.06.94zm10 10l.94 2.06.94-2.06 2.06-.94-2.06-.94-.94-2.06-.94 2.06-2.06.94z\"/><path d=\"M17.41 7.96l-1.37-1.37c-.4-.4-.92-.59-1.43-.59-.52 0-1.04.2-1.43.59L10.3 9.45l-7.72 7.72c-.78.78-.78 2.05 0 2.83L4 21.41c.39.39.9.59 1.41.59.51 0 1.02-.2 1.41-.59l7.78-7.78 2.81-2.81c.8-.78.8-2.07 0-2.86zM5.41 20L4 18.59l7.72-7.72 1.47 1.35L5.41 20z\"/>\n",
              "  </svg>\n",
              "      </button>\n",
              "      \n",
              "  <style>\n",
              "    .colab-df-container {\n",
              "      display:flex;\n",
              "      flex-wrap:wrap;\n",
              "      gap: 12px;\n",
              "    }\n",
              "\n",
              "    .colab-df-convert {\n",
              "      background-color: #E8F0FE;\n",
              "      border: none;\n",
              "      border-radius: 50%;\n",
              "      cursor: pointer;\n",
              "      display: none;\n",
              "      fill: #1967D2;\n",
              "      height: 32px;\n",
              "      padding: 0 0 0 0;\n",
              "      width: 32px;\n",
              "    }\n",
              "\n",
              "    .colab-df-convert:hover {\n",
              "      background-color: #E2EBFA;\n",
              "      box-shadow: 0px 1px 2px rgba(60, 64, 67, 0.3), 0px 1px 3px 1px rgba(60, 64, 67, 0.15);\n",
              "      fill: #174EA6;\n",
              "    }\n",
              "\n",
              "    [theme=dark] .colab-df-convert {\n",
              "      background-color: #3B4455;\n",
              "      fill: #D2E3FC;\n",
              "    }\n",
              "\n",
              "    [theme=dark] .colab-df-convert:hover {\n",
              "      background-color: #434B5C;\n",
              "      box-shadow: 0px 1px 3px 1px rgba(0, 0, 0, 0.15);\n",
              "      filter: drop-shadow(0px 1px 2px rgba(0, 0, 0, 0.3));\n",
              "      fill: #FFFFFF;\n",
              "    }\n",
              "  </style>\n",
              "\n",
              "      <script>\n",
              "        const buttonEl =\n",
              "          document.querySelector('#df-77c97702-cadf-4c5b-9a83-1abf1d815647 button.colab-df-convert');\n",
              "        buttonEl.style.display =\n",
              "          google.colab.kernel.accessAllowed ? 'block' : 'none';\n",
              "\n",
              "        async function convertToInteractive(key) {\n",
              "          const element = document.querySelector('#df-77c97702-cadf-4c5b-9a83-1abf1d815647');\n",
              "          const dataTable =\n",
              "            await google.colab.kernel.invokeFunction('convertToInteractive',\n",
              "                                                     [key], {});\n",
              "          if (!dataTable) return;\n",
              "\n",
              "          const docLinkHtml = 'Like what you see? Visit the ' +\n",
              "            '<a target=\"_blank\" href=https://colab.research.google.com/notebooks/data_table.ipynb>data table notebook</a>'\n",
              "            + ' to learn more about interactive tables.';\n",
              "          element.innerHTML = '';\n",
              "          dataTable['output_type'] = 'display_data';\n",
              "          await google.colab.output.renderOutput(dataTable, element);\n",
              "          const docLink = document.createElement('div');\n",
              "          docLink.innerHTML = docLinkHtml;\n",
              "          element.appendChild(docLink);\n",
              "        }\n",
              "      </script>\n",
              "    </div>\n",
              "  </div>\n",
              "  "
            ]
          },
          "metadata": {},
          "execution_count": 102
        },
        {
          "output_type": "display_data",
          "data": {
            "text/plain": [
              "<Figure size 432x288 with 1 Axes>"
            ],
            "image/png": "[encoded data removed]"
          },
          "metadata": {
            "needs_background": "light"
          }
        }
      ],
      "source": [
        "fnames_test , classes_test , bboxes_test = load_labels(label_file_test)\n",
        "test_index = index_generator(fnames_test , TEST_SET)\n",
        "df = dataframe_generator(test_index,classes_test)\n",
        "df.plot.bar( title = \"ORIGNAL\" );\n",
        "print(\"FINAL IMAGE COUNT:\")\n",
        "print(\"Total Test Images = \",len(test_index))\n",
        "print(df.loc[\"Normal\"])\n",
        "df.loc[:]"
      ]
    },
    {
      "cell_type": "markdown",
      "id": "2a1bc570",
      "metadata": {
        "id": "2a1bc570"
      },
      "source": [
        "### Loading images for Phase - 1 testing"
      ]
    },
    {
      "cell_type": "code",
      "execution_count": null,
      "id": "intellectual-opposition",
      "metadata": {
        "id": "intellectual-opposition",
        "outputId": "0551eb0c-892a-4145-9a88-cd35aec83df1",
        "colab": {
          "base_uri": "https://localhost:8080/"
        }
      },
      "outputs": [
        {
          "output_type": "execute_result",
          "data": {
            "text/plain": [
              "((25658, 128, 128, 3), (25658,))"
            ]
          },
          "metadata": {},
          "execution_count": 15
        }
      ],
      "source": [
        "densenet_x, densenet_y = data_constructor(fnames_test,classes_test, DIM , index  =test_index , bboxes = bboxes_test)\n",
        "densenet_x = tf.keras.applications.densenet.preprocess_input(densenet_x)\n",
        "desnenet_y = phase1_labels_updater(densenet_y)\n",
        "densenet_x.shape , densenet_y.shape"
      ]
    },
    {
      "cell_type": "markdown",
      "id": "d8af4bd4",
      "metadata": {
        "id": "d8af4bd4"
      },
      "source": [
        "### Loading Phase-1 Trained Model"
      ]
    },
    {
      "cell_type": "code",
      "source": [
        "!cp /content/drive/MyDrive/Colab\\ Notebooks/phase-1.h5 ."
      ],
      "metadata": {
        "id": "_6aJD9EVu1ud"
      },
      "id": "_6aJD9EVu1ud",
      "execution_count": null,
      "outputs": []
    },
    {
      "cell_type": "code",
      "source": [
        "!ls ./"
      ],
      "metadata": {
        "colab": {
          "base_uri": "https://localhost:8080/"
        },
        "id": "Hn7utGZ5u5Y4",
        "outputId": "a91f9b0f-a9d4-4da6-b50f-d1e89c2e6a59"
      },
      "id": "Hn7utGZ5u5Y4",
      "execution_count": null,
      "outputs": [
        {
          "output_type": "stream",
          "name": "stdout",
          "text": [
            "2A_images     metadata.csv  test_COVIDx_CT-2A.txt\n",
            "covidxct.zip  phase-1.h5    train_COVIDx_CT-2A.txt\n",
            "drive\t      sample_data   val_COVIDx_CT-2A.txt\n"
          ]
        }
      ]
    },
    {
      "cell_type": "code",
      "source": [
        "!wget https://github.com/sanskar-hasija/COVID-19_Detection/blob/main/models/phase-1.h5\n",
        "!ls"
      ],
      "metadata": {
        "colab": {
          "base_uri": "https://localhost:8080/"
        },
        "id": "MlGOHfvBzoxq",
        "outputId": "2998ffc0-fa0e-4cef-80d3-ea5c4f377205"
      },
      "id": "MlGOHfvBzoxq",
      "execution_count": null,
      "outputs": [
        {
          "output_type": "stream",
          "name": "stdout",
          "text": [
            "--2022-04-30 00:11:50--  https://github.com/sanskar-hasija/COVID-19_Detection/blob/main/models/phase-1.h5\n",
            "Resolving github.com (github.com)... 140.82.113.3\n",
            "Connecting to github.com (github.com)|140.82.113.3|:443... connected.\n",
            "HTTP request sent, awaiting response... 200 OK\n",
            "Length: unspecified [text/html]\n",
            "Saving to: ‘phase-1.h5.1’\n",
            "\n",
            "phase-1.h5.1            [ <=>                ] 127.33K  --.-KB/s    in 0.04s   \n",
            "\n",
            "2022-04-30 00:11:50 (3.36 MB/s) - ‘phase-1.h5.1’ saved [130382]\n",
            "\n",
            "2A_images     metadata.csv  sample_data\t\t    val_COVIDx_CT-2A.txt\n",
            "covidxct.zip  phase-1.h5    test_COVIDx_CT-2A.txt\n",
            "drive\t      phase-1.h5.1  train_COVIDx_CT-2A.txt\n"
          ]
        }
      ]
    },
    {
      "cell_type": "code",
      "source": [
        "!ls -la /content/drive/MyDrive/Colab\\ Notebooks"
      ],
      "metadata": {
        "colab": {
          "base_uri": "https://localhost:8080/"
        },
        "id": "e69l1lPT0lZv",
        "outputId": "a1749346-c90e-4b5a-d8fa-80ead41663fe"
      },
      "id": "e69l1lPT0lZv",
      "execution_count": null,
      "outputs": [
        {
          "output_type": "stream",
          "name": "stdout",
          "text": [
            "total 73703\n",
            "-rw------- 1 root root    79277 Apr 29 22:40 'Copy of Phase-1.ipynb'\n",
            "-rw------- 1 root root   378201 Apr 29 23:06 'Copy of Phase-2.ipynb'\n",
            "-rw------- 1 root root   105654 Apr 30 00:15 'Copy of Testing_Evaluation.ipynb'\n",
            "-rwx------ 1 root root 74907480 Apr 30 00:14  phase-1.h5\n",
            "-rw------- 1 root root      306 Apr 29 22:29  Untitled\n"
          ]
        }
      ]
    },
    {
      "cell_type": "code",
      "source": [
        "!cp /content/drive/MyDrive/Colab\\ Notebooks/phase-1.h5 ."
      ],
      "metadata": {
        "id": "MFftjP7z0-rq"
      },
      "id": "MFftjP7z0-rq",
      "execution_count": null,
      "outputs": []
    },
    {
      "cell_type": "code",
      "execution_count": null,
      "id": "sixth-visiting",
      "metadata": {
        "id": "sixth-visiting",
        "outputId": "88d8c13f-4f24-4e1d-c75d-5c493b22c959",
        "colab": {
          "base_uri": "https://localhost:8080/"
        }
      },
      "outputs": [
        {
          "output_type": "stream",
          "name": "stdout",
          "text": [
            "802/802 [==============================] - 1822s 2s/step - loss: 0.0972 - accuracy: 0.9839\n"
          ]
        }
      ],
      "source": [
        "phase1_model = tf.keras.models.load_model(\"phase-1.h5\")\n",
        "densenet = phase1_model.evaluate(densenet_x, densenet_y)"
      ]
    },
    {
      "cell_type": "markdown",
      "id": "589d3ac9",
      "metadata": {
        "id": "589d3ac9"
      },
      "source": [
        "### Predicting NON-COVID and COVID-19"
      ]
    },
    {
      "cell_type": "code",
      "execution_count": null,
      "id": "excellent-california",
      "metadata": {
        "id": "excellent-california"
      },
      "outputs": [],
      "source": [
        "densenet_preds = phase1_model.predict(densenet_x)\n",
        "densenet_preds = np.rint(densenet_preds).astype(\"int\")\n",
        "densenet_preds= densenet_preds.reshape(TEST_SET)"
      ]
    },
    {
      "cell_type": "markdown",
      "id": "c65728ba",
      "metadata": {
        "id": "c65728ba"
      },
      "source": [
        "## CONFUSION MATRIX of PHASE -1 "
      ]
    },
    {
      "cell_type": "code",
      "execution_count": null,
      "id": "29cbe311",
      "metadata": {
        "id": "29cbe311",
        "outputId": "ddb63dcd-fb10-4c5d-ee0c-ff41d23d61d8",
        "colab": {
          "base_uri": "https://localhost:8080/",
          "height": 346
        }
      },
      "outputs": [
        {
          "output_type": "stream",
          "name": "stdout",
          "text": [
            "[[19537   151]\n",
            " [  261  5709]]\n"
          ]
        },
        {
          "output_type": "display_data",
          "data": {
            "text/plain": [
              "<Figure size 432x288 with 2 Axes>"
            ],
            "image/png": "[encoded data removed]"
          },
          "metadata": {
            "needs_background": "light"
          }
        }
      ],
      "source": [
        "cm1 = confusion_matrix(densenet_y ,densenet_preds)\n",
        "plot_confusion_matrix(cm1,[\"Non-COVID\",\"COVID-19\"] )"
      ]
    },
    {
      "cell_type": "markdown",
      "source": [
        "#261 covid but we estimated wrong and 151 non-covid but predicted wrong "
      ],
      "metadata": {
        "id": "2SmgHdKmU2l5"
      },
      "id": "2SmgHdKmU2l5"
    },
    {
      "cell_type": "markdown",
      "id": "66e22995",
      "metadata": {
        "id": "66e22995"
      },
      "source": [
        "### Extracting index for Phase-2 Testing"
      ]
    },
    {
      "cell_type": "code",
      "execution_count": null,
      "id": "539e9ede",
      "metadata": {
        "id": "539e9ede"
      },
      "outputs": [],
      "source": [
        "index_0,index_02,index_20,index_21 = index_extractor(densenet_preds, densenet_y,  test_index ,classes_test)"
      ]
    },
    {
      "cell_type": "markdown",
      "id": "f017215a",
      "metadata": {
        "id": "f017215a"
      },
      "source": [
        "### Passing True Positive from result of Phase-1 Testing to Phase-2 model"
      ]
    },
    {
      "cell_type": "code",
      "execution_count": null,
      "id": "06cd2725",
      "metadata": {
        "id": "06cd2725",
        "outputId": "cccc45c0-657e-4341-9883-b558ebbb103b",
        "colab": {
          "base_uri": "https://localhost:8080/",
          "height": 204
        }
      },
      "outputs": [
        {
          "output_type": "error",
          "ename": "NameError",
          "evalue": "ignored",
          "traceback": [
            "\u001b[0;31m---------------------------------------------------------------------------\u001b[0m",
            "\u001b[0;31mNameError\u001b[0m                                 Traceback (most recent call last)",
            "\u001b[0;32m<ipython-input-1-738ba9371f3e>\u001b[0m in \u001b[0;36m<module>\u001b[0;34m()\u001b[0m\n\u001b[0;32m----> 1\u001b[0;31m \u001b[0minception_x\u001b[0m\u001b[0;34m,\u001b[0m \u001b[0minception_y\u001b[0m \u001b[0;34m=\u001b[0m \u001b[0mdata_constructor\u001b[0m\u001b[0;34m(\u001b[0m\u001b[0mfnames_test\u001b[0m\u001b[0;34m,\u001b[0m\u001b[0mclasses_test\u001b[0m\u001b[0;34m,\u001b[0m \u001b[0mDIM\u001b[0m \u001b[0;34m,\u001b[0m \u001b[0mindex\u001b[0m  \u001b[0;34m=\u001b[0m\u001b[0mindex_0\u001b[0m \u001b[0;34m,\u001b[0m \u001b[0mbboxes\u001b[0m \u001b[0;34m=\u001b[0m \u001b[0mbboxes_test\u001b[0m\u001b[0;34m)\u001b[0m\u001b[0;34m\u001b[0m\u001b[0;34m\u001b[0m\u001b[0m\n\u001b[0m\u001b[1;32m      2\u001b[0m \u001b[0minception_x\u001b[0m \u001b[0;34m=\u001b[0m \u001b[0mtf\u001b[0m\u001b[0;34m.\u001b[0m\u001b[0mkeras\u001b[0m\u001b[0;34m.\u001b[0m\u001b[0mapplications\u001b[0m\u001b[0;34m.\u001b[0m\u001b[0minception_v3\u001b[0m\u001b[0;34m.\u001b[0m\u001b[0mpreprocess_input\u001b[0m\u001b[0;34m(\u001b[0m\u001b[0minception_x\u001b[0m\u001b[0;34m)\u001b[0m\u001b[0;34m\u001b[0m\u001b[0;34m\u001b[0m\u001b[0m\n\u001b[1;32m      3\u001b[0m \u001b[0minception_x\u001b[0m\u001b[0;34m.\u001b[0m\u001b[0mshape\u001b[0m \u001b[0;34m,\u001b[0m \u001b[0minception_y\u001b[0m\u001b[0;34m.\u001b[0m\u001b[0mshape\u001b[0m\u001b[0;34m\u001b[0m\u001b[0;34m\u001b[0m\u001b[0m\n",
            "\u001b[0;31mNameError\u001b[0m: name 'data_constructor' is not defined"
          ]
        }
      ],
      "source": [
        "inception_x, inception_y = data_constructor(fnames_test,classes_test, DIM , index  =index_0 , bboxes = bboxes_test)\n",
        "inception_x = tf.keras.applications.inception_v3.preprocess_input(inception_x)\n",
        "inception_x.shape , inception_y.shape"
      ]
    },
    {
      "cell_type": "code",
      "source": [
        "!cp /content/drive/MyDrive/Colab\\ Notebooks/eff-2.h5 ."
      ],
      "metadata": {
        "id": "efBSrrNwED5H",
        "colab": {
          "base_uri": "https://localhost:8080/"
        },
        "outputId": "75c88e78-7164-445a-c781-2106e6b3a12b"
      },
      "id": "efBSrrNwED5H",
      "execution_count": null,
      "outputs": [
        {
          "output_type": "stream",
          "name": "stdout",
          "text": [
            "cp: cannot stat '/content/drive/MyDrive/Colab Notebooks/eff-2.h5': No such file or directory\n"
          ]
        }
      ]
    },
    {
      "cell_type": "code",
      "source": [
        "!ls"
      ],
      "metadata": {
        "colab": {
          "base_uri": "https://localhost:8080/"
        },
        "id": "5FYIY3jMEHXd",
        "outputId": "a8362a4f-c064-480a-8bc0-86fcf60678a5"
      },
      "id": "5FYIY3jMEHXd",
      "execution_count": null,
      "outputs": [
        {
          "output_type": "stream",
          "name": "stdout",
          "text": [
            "2A_images     metadata.csv  sample_data\t\t    val_COVIDx_CT-2A.txt\n",
            "covidxct.zip  phase-1.h5    test_COVIDx_CT-2A.txt\n",
            "drive\t      phase-2.h5    train_COVIDx_CT-2A.txt\n"
          ]
        }
      ]
    },
    {
      "cell_type": "code",
      "execution_count": null,
      "id": "0d34d884",
      "metadata": {
        "id": "0d34d884",
        "outputId": "60da637c-eb7b-4d55-97ce-e4d7072937fa",
        "colab": {
          "base_uri": "https://localhost:8080/"
        }
      },
      "outputs": [
        {
          "output_type": "stream",
          "name": "stdout",
          "text": [
            "611/611 [==============================] - 546s 891ms/step - loss: 8.4858e-04 - accuracy: 0.9998\n"
          ]
        }
      ],
      "source": [
        "phase2_model = tf.keras.models.load_model(\"eff-2.h5\")\n",
        "inception = phase2_model.evaluate(inception_x , inception_y)"
      ]
    },
    {
      "cell_type": "markdown",
      "id": "2a2b5adf",
      "metadata": {
        "id": "2a2b5adf"
      },
      "source": [
        "### Predicting Normal and Pnumonia "
      ]
    },
    {
      "cell_type": "code",
      "execution_count": null,
      "id": "6e35f28a",
      "metadata": {
        "id": "6e35f28a"
      },
      "outputs": [],
      "source": [
        "inception_preds = phase2_model.predict(inception_x)\n",
        "inception_preds = np.rint(inception_preds).astype(\"int\")\n",
        "inception_preds = inception_preds.reshape(len(index_0))"
      ]
    },
    {
      "cell_type": "markdown",
      "id": "edf34bfa",
      "metadata": {
        "id": "edf34bfa"
      },
      "source": [
        "## CONFUSION MATRIX of PHASE -2"
      ]
    },
    {
      "cell_type": "code",
      "execution_count": null,
      "id": "766ba434",
      "metadata": {
        "id": "766ba434",
        "outputId": "0eb1b61c-2bdd-4ec3-fe7b-caf3ac3f5410",
        "colab": {
          "base_uri": "https://localhost:8080/",
          "height": 346
        }
      },
      "outputs": [
        {
          "output_type": "stream",
          "name": "stdout",
          "text": [
            "[[11995     3]\n",
            " [    1  7538]]\n"
          ]
        },
        {
          "output_type": "display_data",
          "data": {
            "text/plain": [
              "<Figure size 432x288 with 2 Axes>"
            ],
            "image/png": "[encoded data removed]"
          },
          "metadata": {
            "needs_background": "light"
          }
        }
      ],
      "source": [
        "cm2 = confusion_matrix(inception_y ,inception_preds )\n",
        "plot_confusion_matrix(cm2,[\"Normal\",\"Pnumonia\"] )"
      ]
    },
    {
      "cell_type": "markdown",
      "source": [
        "#model can distinguish phonemon vs normal better than covid19 distinguish"
      ],
      "metadata": {
        "id": "-Vpi2fP5VLTu"
      },
      "id": "-Vpi2fP5VLTu"
    },
    {
      "cell_type": "markdown",
      "id": "ae69c950",
      "metadata": {
        "id": "ae69c950"
      },
      "source": [
        "### Passing False Positives from Phase-1 to Phase-2 model"
      ]
    },
    {
      "cell_type": "code",
      "execution_count": null,
      "id": "f0963758",
      "metadata": {
        "id": "f0963758",
        "outputId": "c3f8c88c-b3df-426a-87f2-a7b167dde8c0",
        "colab": {
          "base_uri": "https://localhost:8080/"
        }
      },
      "outputs": [
        {
          "output_type": "execute_result",
          "data": {
            "text/plain": [
              "((261, 128, 128, 3), (261,))"
            ]
          },
          "metadata": {},
          "execution_count": 80
        }
      ],
      "source": [
        "FN_x, FN_y = data_constructor(fnames_test,classes_test, DIM , index  =index_02 , bboxes = bboxes_test)\n",
        "FN_x = tf.keras.applications.inception_v3.preprocess_input(FN_x)\n",
        "FN_x.shape , FN_y.shape"
      ]
    },
    {
      "cell_type": "markdown",
      "id": "48f9df72",
      "metadata": {
        "id": "48f9df72"
      },
      "source": [
        "## CONFUSION MATRIX of False Positives of Phase-1"
      ]
    },
    {
      "cell_type": "code",
      "execution_count": null,
      "id": "90aa21cd",
      "metadata": {
        "id": "90aa21cd",
        "outputId": "2362475c-1212-42f9-d94e-2c344e492e17",
        "colab": {
          "base_uri": "https://localhost:8080/",
          "height": 364
        }
      },
      "outputs": [
        {
          "output_type": "stream",
          "name": "stdout",
          "text": [
            "[[  0   0   0]\n",
            " [  0   0   0]\n",
            " [ 71 190   0]]\n"
          ]
        },
        {
          "output_type": "display_data",
          "data": {
            "text/plain": [
              "<Figure size 432x288 with 2 Axes>"
            ],
            "image/png": "[encoded data removed]"
          },
          "metadata": {
            "needs_background": "light"
          }
        }
      ],
      "source": [
        "FN_preds = phase2_model.predict(FN_x)\n",
        "FN_preds = np.rint(FN_preds).astype(\"int\")\n",
        "FN_preds = FN_preds.reshape(len(index_02))\n",
        "cm3 = confusion_matrix(FN_y,FN_preds)\n",
        "plot_confusion_matrix(cm3,[\"Normal\",\"Pnumonia\",\"Covid-19\"] )"
      ]
    },
    {
      "cell_type": "markdown",
      "id": "f2c16ee1",
      "metadata": {
        "id": "f2c16ee1"
      },
      "source": [
        "## FINAL CONFUSION MATRIX OF ALL 3 CLASSES"
      ]
    },
    {
      "cell_type": "code",
      "execution_count": null,
      "id": "57e9c97a",
      "metadata": {
        "id": "57e9c97a",
        "outputId": "4393d0e2-4a79-4183-88d6-6caa6c8e3c48",
        "colab": {
          "base_uri": "https://localhost:8080/",
          "height": 364
        }
      },
      "outputs": [
        {
          "output_type": "stream",
          "name": "stdout",
          "text": [
            "[[11995     3   119]\n",
            " [    1  7538    32]\n",
            " [   71   190  5709]]\n"
          ]
        },
        {
          "output_type": "display_data",
          "data": {
            "text/plain": [
              "<Figure size 432x288 with 2 Axes>"
            ],
            "image/png": "[encoded data removed]"
          },
          "metadata": {
            "needs_background": "light"
          }
        }
      ],
      "source": [
        "cm =[[cm2[0,0] , cm2[0,1] , len(index_20)],\n",
        "    [cm2[1,0] , cm2[1,1] , len(index_21)],\n",
        "    [cm3[2,0] , cm3[2,1] , cm1[1,1]]]\n",
        "cm = np.array(cm)\n",
        "plot_confusion_matrix(cm,[\"Normal\",\"Pnumonia\",\"Covid-19\"] )"
      ]
    },
    {
      "cell_type": "markdown",
      "id": "daf80378",
      "metadata": {
        "id": "daf80378"
      },
      "source": [
        "## FINAL ACCURACY"
      ]
    },
    {
      "cell_type": "code",
      "execution_count": null,
      "id": "602024b0",
      "metadata": {
        "id": "602024b0",
        "outputId": "e288092c-e204-4ce5-9e98-b266378333e4",
        "colab": {
          "base_uri": "https://localhost:8080/"
        }
      },
      "outputs": [
        {
          "output_type": "stream",
          "name": "stdout",
          "text": [
            "Final Accuracy = 98.38%\n"
          ]
        }
      ],
      "source": [
        "final_accuracy = (cm[0,0]+cm[1,1]+cm[2,2]) / np.sum(cm)\n",
        "print(\"Final Accuracy = \"\"{:.2%}\".format(final_accuracy))"
      ]
    }
  ],
  "metadata": {
    "kernelspec": {
      "display_name": "Python 3",
      "language": "python",
      "name": "python3"
    },
    "language_info": {
      "codemirror_mode": {
        "name": "ipython",
        "version": 3
      },
      "file_extension": ".py",
      "mimetype": "text/x-python",
      "name": "python",
      "nbconvert_exporter": "python",
      "pygments_lexer": "ipython3",
      "version": "3.6.13"
    },
    "colab": {
      "name": "Testing_Evaluation_eff.ipynb",
      "provenance": [],
      "collapsed_sections": [
        "d8af4bd4",
        "589d3ac9",
        "66e22995",
        "2a2b5adf",
        "ae69c950"
      ],
      "include_colab_link": true
    }
  },
  "nbformat": 4,
  "nbformat_minor": 5
}